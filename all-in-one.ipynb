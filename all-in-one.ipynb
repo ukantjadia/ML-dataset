{
 "cells": [
  {
   "cell_type": "code",
   "execution_count": 73,
   "id": "d07165c3",
   "metadata": {},
   "outputs": [],
   "source": [
    "# common imports \n",
    "import pandas as pd\n",
    "import numpy as np\n",
    "from sklearn.model_selection import train_test_split\n",
    "from sklearn.metrics import accuracy_score , plot_confusion_matrix, r2_score\n",
    "from sklearn.metrics import  mean_squared_error as MSE\n",
    "from sklearn import metrics\n",
    "from sklearn.metrics import classification_report as clsr\n"
   ]
  },
  {
   "cell_type": "code",
   "execution_count": null,
   "id": "d3740afd",
   "metadata": {},
   "outputs": [],
   "source": [
    "# taking dataset and spiltting into train and test\n",
    "df_old = pd.read_csv(\"AirQuality_6-level.csv\")\n",
    "\n",
    "# creating new dataframe for exculating the time notation\n",
    "\n",
    "\n",
    "data = df0[['DEWP','TEMP','PRES','Iws','pm2.5']]\n",
    "col = ['DEWP','TEMP','PRES','Iws','pm2.5'];\n",
    "\n",
    "df.drop_duplicates(inplace= True)\n",
    "\n",
    "df = pd.DataFrame(data=data,columns=col)\n",
    "# df.drop_duplicates(inplace= True)\n",
    "# df = df.drop_duplicates(inplace= True)\n",
    "df=df.drop(df[df['pm2.5'] == 'FALSE'].index)\n",
    "\n",
    "X = df[['DEWP','TEMP','PRES','Iws']]\n",
    "y = df[['pm2.5']]\n",
    "\n",
    "# print(df.shape)\n",
    "print(df)"
   ]
  },
  {
   "cell_type": "markdown",
   "id": "77c38ee8",
   "metadata": {},
   "source": [
    "## spillting the dataset and it will be same for the all algorithm"
   ]
  },
  {
   "cell_type": "code",
   "execution_count": null,
   "id": "ac1eb4e0",
   "metadata": {},
   "outputs": [],
   "source": [
    "\n",
    "X_test,X_train,y_test,y_train = train_test_split(X,y,test_size=0.3)\n",
    "print(f\"Shape of training data {X_train.shape,y_train.shape}\")\n",
    "print(f\"Shape of test data {X_test.shape,y_test.shape}\")"
   ]
  },
  {
   "cell_type": "markdown",
   "id": "e89975b7",
   "metadata": {},
   "source": [
    "### Finding the correlation "
   ]
  },
  {
   "cell_type": "code",
   "execution_count": null,
   "id": "4178c872",
   "metadata": {},
   "outputs": [],
   "source": [
    "import matplotlib.pyplot as plt\n",
    "import seaborn as sns\n",
    "fig, ax = plt.subplots(1, 1, figsize=(17, 8))\n",
    "sns.heatmap(df.corr(), annot=True )\n",
    "plt.title('Correlation between different features', fontsize = 15, c='black')\n",
    "plt.show()"
   ]
  },
  {
   "cell_type": "markdown",
   "id": "36d73142",
   "metadata": {},
   "source": [
    "### Visualizing the dataset"
   ]
  },
  {
   "cell_type": "code",
   "execution_count": null,
   "id": "35a9584b",
   "metadata": {},
   "outputs": [],
   "source": [
    "# visualising the dataset\n",
    "import mglearn\n",
    "# grr=pd.plotting.scatter_matrix(df,figsize=(20,20),hist_kwds={'bins':20},s=60,cmap=mglearn.cm3,alpha=0.8)\n",
    "plt = pd.plotting.scatter_matrix(df, figsize=(20,20),s=60,cmap=mglearn.cm3,hist_kwds={'bins':60})"
   ]
  },
  {
   "cell_type": "markdown",
   "id": "0ede318b",
   "metadata": {},
   "source": [
    "## the linear Regressoiin "
   ]
  },
  {
   "cell_type": "code",
   "execution_count": 70,
   "id": "d246ab00",
   "metadata": {},
   "outputs": [
    {
     "name": "stdout",
     "output_type": "stream",
     "text": [
      "the mean squared error of model is 0.2314310574860287\n",
      "0.11512968744031149\n"
     ]
    }
   ],
   "source": [
    "from sklearn.linear_model import LinearRegression\n",
    "obj_linear_model = LinearRegression()\n",
    "\n",
    "# fitting and predicting with linear Regression \n",
    "model_01 = obj_linear_model.fit(X_train,y_train)\n",
    "y_pred_01 = linear_regression_model.predict(X_test)\n",
    "\n",
    "\n",
    "\n",
    "print(f\"the mean squared error of model is {MSE(y_test,y_pred_01)}\")\n",
    "print(r2_score(y_test, y_pred_01))\n",
    "\n",
    "### Accuracy of this model is giving error as \"Classification metrics can't handle a mix of multiclass and continuous targets\"  \n",
    "### to see the error uncomment the following  lines\n",
    "# print(classification_report(y_test, y_pred, digits=8))\n",
    "# print(f\"The accuracy of model is {accuracy_score(y_test,y_pred)*100}\")"
   ]
  },
  {
   "cell_type": "markdown",
   "id": "659f2b8e",
   "metadata": {},
   "source": [
    "### the Logistic Rregression "
   ]
  },
  {
   "cell_type": "code",
   "execution_count": null,
   "id": "97ba1f84",
   "metadata": {},
   "outputs": [],
   "source": [
    "from sklearn.linear_model import LogisticRegression\n",
    "\n",
    "obj_logistic_regression =  LogisticRegression()\n",
    "model_02 = obj_logistic_regression.fit(X_train,y_train)\n",
    "y_pred_02 = model_02.predict(X_test)\n",
    "\n",
    "print(f\"The classification Report of Logistic Regression model is {clsr(y_test,y_pred_02)}\")\n",
    "print(f\"\\n\\nAccuracy of the Logistic Regression model is {metrics.accuracy_score(y_test,y_pred_02)*100}\")\n",
    "print(f\"The Mean Squared Error of model is {MSE(y_test,y_pred_02)}\")"
   ]
  },
  {
   "cell_type": "markdown",
   "id": "cc646143",
   "metadata": {},
   "source": [
    "### The DesicionTree Classifier "
   ]
  },
  {
   "cell_type": "code",
   "execution_count": 102,
   "id": "d7033791",
   "metadata": {},
   "outputs": [
    {
     "name": "stdout",
     "output_type": "stream",
     "text": [
      "The default criterion is gini here\n",
      "The Classification Report of DecisionTreeClassifier is               precision    recall  f1-score   support\n",
      "\n",
      "           1       0.87      0.86      0.87     23865\n",
      "           2       0.34      0.35      0.34      4338\n",
      "           3       0.22      0.22      0.22       924\n",
      "           4       0.04      0.03      0.04        88\n",
      "           5       0.00      0.00      0.00         9\n",
      "           6       0.00      0.00      0.00         5\n",
      "\n",
      "    accuracy                           0.77     29229\n",
      "   macro avg       0.24      0.25      0.25     29229\n",
      "weighted avg       0.77      0.77      0.77     29229\n",
      "\n",
      "The Accuracy of DecisionTreeClassifier is 76.53015840432448\n",
      "The Mean Squared Error of the DecisionTreeClassifier is 0.3702145129836806\n"
     ]
    }
   ],
   "source": [
    "# https://www.datacamp.com/tutorial/decision-tree-classification-python\n",
    "from sklearn.tree import DecisionTreeClassifier\n",
    "\n",
    "obj_decisiontree_classifier = DecisionTreeClassifier()\n",
    "model_03 = obj_decisiontree_classifier.fit(X_train,y_train)\n",
    "y_pred_03 = model_03.predict(X_test)\n",
    "\n",
    "print(f\"The default criterion is gini here\")\n",
    "print(f\"The Classification Report of DecisionTreeClassifier is {clsr(y_test,y_pred_03)}\")\n",
    "print(f\"The Accuracy of DecisionTreeClassifier is {accuracy_score(y_test,y_pred_03)*100}\")\n",
    "print(f\"The Mean Squared Error of the DecisionTreeClassifier is {MSE(y_test,y_pred_03)}\")\n"
   ]
  },
  {
   "cell_type": "code",
   "execution_count": null,
   "id": "18db6761",
   "metadata": {},
   "outputs": [],
   "source": [
    "## decision tree image\n",
    "\n",
    "# from sklearn.externals.six import StringIO  \n",
    "# from IPython.display import Image  \n",
    "# from sklearn.tree import export_graphviz\n",
    "# import pydotplus\n",
    "# dot_data = StringIO()\n",
    "# export_graphviz(clf, out_file=dot_data,  \n",
    "#                 filled=True, rounded=True,\n",
    "#                 special_characters=True, feature_names = feature_cols,class_names=['0','1'])\n",
    "# graph = pydotplus.graph_from_dot_data(dot_data.getvalue())  \n",
    "# graph.write_png('diabetes.png')\n",
    "# Image(graph.create_png())"
   ]
  },
  {
   "cell_type": "code",
   "execution_count": null,
   "id": "3804f68a",
   "metadata": {},
   "outputs": [],
   "source": [
    "# https://www.datacamp.com/tutorial/decision-tree-classification-python\n",
    "obj_decisiontree_classifier_01 = DecisionTreeClassifier(criterion=\"entropy\",max_depth=4)\n",
    "model_03_1 = obj_decisiontree_classifier_01.fit(X_train,y_train)\n",
    "y_pred_03_1 = model_03_1.predict(X_test)\n",
    "\n",
    "print(f\"The Classification Report of DecisionTreeClassifier with criterion is \\n{clsr(y_test,y_pred_03_1)}\")\n",
    "print(f\"The Accuracy of DecisionTreeClassifier with criterion is {accuracy_score(y_test,y_pred_03_1)*100}\")\n",
    "print(f\"The Mean Squared Error of the DecisionTreeClassifier with criterion is {MSE(y_test,y_pred_03_1)}\")\n"
   ]
  },
  {
   "cell_type": "markdown",
   "id": "63c47827",
   "metadata": {},
   "source": [
    "### The RandomForestTree Classifier"
   ]
  },
  {
   "cell_type": "code",
   "execution_count": null,
   "id": "988631c9",
   "metadata": {},
   "outputs": [],
   "source": [
    "from sklearn.ensemble import RandomForestClassifier\n",
    "\n",
    "obj_randomforestclassifier = RandomForestClassifier(n_estimators=100)\n",
    "model_04 =  obj_randomforestclassifier.fit(X_train,y_train)\n",
    "y_pred_04 = model_04.predict(X_test)\n",
    "\n",
    "print(f\"The Classification Report of RandomForestClassifier is \\n{clsr(y_test,y_pred_04)}\")\n",
    "print(f\"The Accuracy of RandomForestClassifier is {accuracy_score(y_test,y_pred_04)*100}\")\n",
    "print(f\"The Mean Squared Error of the RandomForestClassifier is {MSE(y_test,y_pred_04)}\")\n"
   ]
  }
 ],
 "metadata": {
  "kernelspec": {
   "display_name": "Python 3 (ipykernel)",
   "language": "python",
   "name": "python3"
  },
  "language_info": {
   "codemirror_mode": {
    "name": "ipython",
    "version": 3
   },
   "file_extension": ".py",
   "mimetype": "text/x-python",
   "name": "python",
   "nbconvert_exporter": "python",
   "pygments_lexer": "ipython3",
   "version": "3.9.12"
  }
 },
 "nbformat": 4,
 "nbformat_minor": 5
}
